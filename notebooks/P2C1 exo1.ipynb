{
  "cells": [
    {
      "cell_type": "markdown",
      "metadata": {
        "id": "1v_LpY44AEKp"
      },
      "source": [
        "![openclassrooms](https://s3.eu-west-1.amazonaws.com/course.oc-static.com/courses/6204541/1+HnqdJ-5ofxiPP9HIxdNdpw.jpeg)\n",
        "\n",
        "# Initiez-vous à Python pour l'analyse de données\n",
        "\n",
        "## Déclarez une variable\n",
        "\n",
        "Exécutez la case suivante qui déclare les variables :\n",
        "- `compteEpargne` correspondant au montant sur le compte épargne\n",
        "- `taux` le taux d'intérêt pour l'année considérée"
      ]
    },
    {
      "cell_type": "code",
      "execution_count": 1,
      "metadata": {
        "id": "CKhGuLdpAEKr"
      },
      "outputs": [],
      "source": [
        "compteEpargne = 10000\n",
        "taux = 0.75"
      ]
    },
    {
      "cell_type": "markdown",
      "metadata": {
        "id": "uD08qpLbAEKr"
      },
      "source": [
        "Créez une variable `interets`, qui correspond au montant sur le compte épargne multiplié par le taux d'intérêt (qui lui même doit être divisé par 100, car les taux sont exprimés en pourcentage) :"
      ]
    },
    {
      "cell_type": "code",
      "execution_count": 2,
      "metadata": {
        "id": "2LvC9zDvAEKs",
        "outputId": "b10ddf9e-1cec-4fab-9050-4986fd5c8f68",
        "colab": {
          "base_uri": "https://localhost:8080/",
          "height": 106
        }
      },
      "outputs": [
        {
          "output_type": "error",
          "ename": "SyntaxError",
          "evalue": "invalid syntax (<ipython-input-2-74a1e97191aa>, line 1)",
          "traceback": [
            "\u001b[0;36m  File \u001b[0;32m\"<ipython-input-2-74a1e97191aa>\"\u001b[0;36m, line \u001b[0;32m1\u001b[0m\n\u001b[0;31m    interets =\u001b[0m\n\u001b[0m               ^\u001b[0m\n\u001b[0;31mSyntaxError\u001b[0m\u001b[0;31m:\u001b[0m invalid syntax\n"
          ]
        }
      ],
      "source": [
        "interets ="
      ]
    },
    {
      "cell_type": "markdown",
      "metadata": {
        "id": "3mzlEYjFAEKs"
      },
      "source": [
        "A présent exécutez la case suivante :"
      ]
    },
    {
      "cell_type": "code",
      "execution_count": null,
      "metadata": {
        "id": "o67oLV6wAEKt"
      },
      "outputs": [],
      "source": [
        "print(\"Le solde de votre compte était de\", compteEpargne, \"€\\nIl vous a rapporté\", interets, \"€ cette année\")"
      ]
    }
  ],
  "metadata": {
    "kernelspec": {
      "display_name": "Python 3",
      "language": "python",
      "name": "python3"
    },
    "language_info": {
      "codemirror_mode": {
        "name": "ipython",
        "version": 3
      },
      "file_extension": ".py",
      "mimetype": "text/x-python",
      "name": "python",
      "nbconvert_exporter": "python",
      "pygments_lexer": "ipython3",
      "version": "3.8.5"
    },
    "colab": {
      "provenance": []
    }
  },
  "nbformat": 4,
  "nbformat_minor": 0
}